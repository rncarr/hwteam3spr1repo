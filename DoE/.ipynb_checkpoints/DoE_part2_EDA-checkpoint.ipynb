{
 "cells": [
  {
   "cell_type": "code",
   "execution_count": 180,
   "metadata": {},
   "outputs": [],
   "source": [
    "import pandas as pd\n",
    "import numpy as np\n",
    "import os\n",
    "import matplotlib.pyplot as plt\n",
    "import seaborn as sns\n",
    "pd.set_option('display.max_columns', 50)"
   ]
  },
  {
   "cell_type": "code",
   "execution_count": 181,
   "metadata": {},
   "outputs": [],
   "source": [
    "df = pd.read_csv(r'../data/DoE_part2_data.csv')"
   ]
  },
  {
   "cell_type": "code",
   "execution_count": 182,
   "metadata": {},
   "outputs": [
    {
     "data": {
      "text/html": [
       "<div>\n",
       "<style scoped>\n",
       "    .dataframe tbody tr th:only-of-type {\n",
       "        vertical-align: middle;\n",
       "    }\n",
       "\n",
       "    .dataframe tbody tr th {\n",
       "        vertical-align: top;\n",
       "    }\n",
       "\n",
       "    .dataframe thead th {\n",
       "        text-align: right;\n",
       "    }\n",
       "</style>\n",
       "<table border=\"1\" class=\"dataframe\">\n",
       "  <thead>\n",
       "    <tr style=\"text-align: right;\">\n",
       "      <th></th>\n",
       "      <th>Unnamed: 0</th>\n",
       "      <th>ID</th>\n",
       "      <th>LONG</th>\n",
       "      <th>LAT</th>\n",
       "      <th>ages</th>\n",
       "      <th>race</th>\n",
       "      <th>sex</th>\n",
       "      <th>income</th>\n",
       "      <th>Location</th>\n",
       "      <th>Price</th>\n",
       "      <th>Experience</th>\n",
       "      <th>Other</th>\n",
       "      <th>will_attend</th>\n",
       "    </tr>\n",
       "  </thead>\n",
       "  <tbody>\n",
       "    <tr>\n",
       "      <th>0</th>\n",
       "      <td>1</td>\n",
       "      <td>34</td>\n",
       "      <td>-78.573908</td>\n",
       "      <td>35.790983</td>\n",
       "      <td>48.348342</td>\n",
       "      <td>Black</td>\n",
       "      <td>M</td>\n",
       "      <td>&lt;25k</td>\n",
       "      <td>1</td>\n",
       "      <td>4</td>\n",
       "      <td>3</td>\n",
       "      <td>3</td>\n",
       "      <td>0</td>\n",
       "    </tr>\n",
       "    <tr>\n",
       "      <th>1</th>\n",
       "      <td>2</td>\n",
       "      <td>159</td>\n",
       "      <td>-78.658352</td>\n",
       "      <td>35.803606</td>\n",
       "      <td>26.371383</td>\n",
       "      <td>White</td>\n",
       "      <td>F</td>\n",
       "      <td>75-100k</td>\n",
       "      <td>5</td>\n",
       "      <td>2</td>\n",
       "      <td>1</td>\n",
       "      <td>3</td>\n",
       "      <td>0</td>\n",
       "    </tr>\n",
       "    <tr>\n",
       "      <th>2</th>\n",
       "      <td>3</td>\n",
       "      <td>280</td>\n",
       "      <td>-78.663104</td>\n",
       "      <td>35.819915</td>\n",
       "      <td>34.121603</td>\n",
       "      <td>White</td>\n",
       "      <td>F</td>\n",
       "      <td>25-50k</td>\n",
       "      <td>1</td>\n",
       "      <td>1</td>\n",
       "      <td>2</td>\n",
       "      <td>1</td>\n",
       "      <td>0</td>\n",
       "    </tr>\n",
       "    <tr>\n",
       "      <th>3</th>\n",
       "      <td>4</td>\n",
       "      <td>423</td>\n",
       "      <td>-78.521571</td>\n",
       "      <td>35.891935</td>\n",
       "      <td>43.571950</td>\n",
       "      <td>White</td>\n",
       "      <td>M</td>\n",
       "      <td>25-50k</td>\n",
       "      <td>3</td>\n",
       "      <td>1</td>\n",
       "      <td>3</td>\n",
       "      <td>4</td>\n",
       "      <td>1</td>\n",
       "    </tr>\n",
       "    <tr>\n",
       "      <th>4</th>\n",
       "      <td>5</td>\n",
       "      <td>932</td>\n",
       "      <td>-78.646293</td>\n",
       "      <td>35.821340</td>\n",
       "      <td>36.240983</td>\n",
       "      <td>Hispanic</td>\n",
       "      <td>F</td>\n",
       "      <td>25-50k</td>\n",
       "      <td>4</td>\n",
       "      <td>3</td>\n",
       "      <td>1</td>\n",
       "      <td>4</td>\n",
       "      <td>0</td>\n",
       "    </tr>\n",
       "  </tbody>\n",
       "</table>\n",
       "</div>"
      ],
      "text/plain": [
       "   Unnamed: 0   ID       LONG        LAT       ages      race sex   income  \\\n",
       "0           1   34 -78.573908  35.790983  48.348342     Black   M     <25k   \n",
       "1           2  159 -78.658352  35.803606  26.371383     White   F  75-100k   \n",
       "2           3  280 -78.663104  35.819915  34.121603     White   F   25-50k   \n",
       "3           4  423 -78.521571  35.891935  43.571950     White   M   25-50k   \n",
       "4           5  932 -78.646293  35.821340  36.240983  Hispanic   F   25-50k   \n",
       "\n",
       "   Location  Price  Experience  Other  will_attend  \n",
       "0         1      4           3      3            0  \n",
       "1         5      2           1      3            0  \n",
       "2         1      1           2      1            0  \n",
       "3         3      1           3      4            1  \n",
       "4         4      3           1      4            0  "
      ]
     },
     "execution_count": 182,
     "metadata": {},
     "output_type": "execute_result"
    }
   ],
   "source": [
    "df.head() #looks like a random column unnamed: 0 could be dropped"
   ]
  },
  {
   "cell_type": "code",
   "execution_count": 183,
   "metadata": {},
   "outputs": [],
   "source": [
    "df.drop('Unnamed: 0', inplace=True, axis=1)"
   ]
  },
  {
   "cell_type": "code",
   "execution_count": 184,
   "metadata": {},
   "outputs": [
    {
     "name": "stdout",
     "output_type": "stream",
     "text": [
      "<class 'pandas.core.frame.DataFrame'>\n",
      "RangeIndex: 6802 entries, 0 to 6801\n",
      "Data columns (total 12 columns):\n",
      "ID             6802 non-null int64\n",
      "LONG           6802 non-null float64\n",
      "LAT            6802 non-null float64\n",
      "ages           6802 non-null float64\n",
      "race           6802 non-null object\n",
      "sex            6802 non-null object\n",
      "income         6802 non-null object\n",
      "Location       6802 non-null int64\n",
      "Price          6802 non-null int64\n",
      "Experience     6802 non-null int64\n",
      "Other          6802 non-null int64\n",
      "will_attend    6802 non-null int64\n",
      "dtypes: float64(3), int64(6), object(3)\n",
      "memory usage: 637.8+ KB\n"
     ]
    }
   ],
   "source": [
    "df.info() # no mmissing data"
   ]
  },
  {
   "cell_type": "code",
   "execution_count": 185,
   "metadata": {},
   "outputs": [
    {
     "data": {
      "text/html": [
       "<div>\n",
       "<style scoped>\n",
       "    .dataframe tbody tr th:only-of-type {\n",
       "        vertical-align: middle;\n",
       "    }\n",
       "\n",
       "    .dataframe tbody tr th {\n",
       "        vertical-align: top;\n",
       "    }\n",
       "\n",
       "    .dataframe thead th {\n",
       "        text-align: right;\n",
       "    }\n",
       "</style>\n",
       "<table border=\"1\" class=\"dataframe\">\n",
       "  <thead>\n",
       "    <tr style=\"text-align: right;\">\n",
       "      <th></th>\n",
       "      <th>ID</th>\n",
       "      <th>LONG</th>\n",
       "      <th>LAT</th>\n",
       "      <th>ages</th>\n",
       "      <th>Location</th>\n",
       "      <th>Price</th>\n",
       "      <th>Experience</th>\n",
       "      <th>Other</th>\n",
       "      <th>will_attend</th>\n",
       "    </tr>\n",
       "  </thead>\n",
       "  <tbody>\n",
       "    <tr>\n",
       "      <th>count</th>\n",
       "      <td>6.802000e+03</td>\n",
       "      <td>6802.000000</td>\n",
       "      <td>6802.000000</td>\n",
       "      <td>6802.000000</td>\n",
       "      <td>6802.000000</td>\n",
       "      <td>6802.000000</td>\n",
       "      <td>6802.000000</td>\n",
       "      <td>6802.000000</td>\n",
       "      <td>6802.000000</td>\n",
       "    </tr>\n",
       "    <tr>\n",
       "      <th>mean</th>\n",
       "      <td>7.510027e+05</td>\n",
       "      <td>-78.760288</td>\n",
       "      <td>35.839948</td>\n",
       "      <td>42.177065</td>\n",
       "      <td>3.052632</td>\n",
       "      <td>2.473684</td>\n",
       "      <td>1.842105</td>\n",
       "      <td>2.421053</td>\n",
       "      <td>0.058806</td>\n",
       "    </tr>\n",
       "    <tr>\n",
       "      <th>std</th>\n",
       "      <td>4.330180e+05</td>\n",
       "      <td>0.157984</td>\n",
       "      <td>0.120887</td>\n",
       "      <td>7.715904</td>\n",
       "      <td>1.431839</td>\n",
       "      <td>1.141109</td>\n",
       "      <td>0.812020</td>\n",
       "      <td>1.091472</td>\n",
       "      <td>0.235279</td>\n",
       "    </tr>\n",
       "    <tr>\n",
       "      <th>min</th>\n",
       "      <td>3.400000e+01</td>\n",
       "      <td>-79.228282</td>\n",
       "      <td>35.444594</td>\n",
       "      <td>22.452138</td>\n",
       "      <td>1.000000</td>\n",
       "      <td>1.000000</td>\n",
       "      <td>1.000000</td>\n",
       "      <td>1.000000</td>\n",
       "      <td>0.000000</td>\n",
       "    </tr>\n",
       "    <tr>\n",
       "      <th>25%</th>\n",
       "      <td>3.771328e+05</td>\n",
       "      <td>-78.873875</td>\n",
       "      <td>35.756349</td>\n",
       "      <td>36.671926</td>\n",
       "      <td>2.000000</td>\n",
       "      <td>1.000000</td>\n",
       "      <td>1.000000</td>\n",
       "      <td>1.000000</td>\n",
       "      <td>0.000000</td>\n",
       "    </tr>\n",
       "    <tr>\n",
       "      <th>50%</th>\n",
       "      <td>7.437685e+05</td>\n",
       "      <td>-78.756112</td>\n",
       "      <td>35.827054</td>\n",
       "      <td>41.585939</td>\n",
       "      <td>3.000000</td>\n",
       "      <td>2.000000</td>\n",
       "      <td>2.000000</td>\n",
       "      <td>2.000000</td>\n",
       "      <td>0.000000</td>\n",
       "    </tr>\n",
       "    <tr>\n",
       "      <th>75%</th>\n",
       "      <td>1.127228e+06</td>\n",
       "      <td>-78.634398</td>\n",
       "      <td>35.936086</td>\n",
       "      <td>47.005610</td>\n",
       "      <td>4.000000</td>\n",
       "      <td>4.000000</td>\n",
       "      <td>3.000000</td>\n",
       "      <td>3.000000</td>\n",
       "      <td>0.000000</td>\n",
       "    </tr>\n",
       "    <tr>\n",
       "      <th>max</th>\n",
       "      <td>1.507280e+06</td>\n",
       "      <td>-78.384012</td>\n",
       "      <td>36.184802</td>\n",
       "      <td>78.734115</td>\n",
       "      <td>5.000000</td>\n",
       "      <td>4.000000</td>\n",
       "      <td>3.000000</td>\n",
       "      <td>4.000000</td>\n",
       "      <td>1.000000</td>\n",
       "    </tr>\n",
       "  </tbody>\n",
       "</table>\n",
       "</div>"
      ],
      "text/plain": [
       "                 ID         LONG          LAT         ages     Location  \\\n",
       "count  6.802000e+03  6802.000000  6802.000000  6802.000000  6802.000000   \n",
       "mean   7.510027e+05   -78.760288    35.839948    42.177065     3.052632   \n",
       "std    4.330180e+05     0.157984     0.120887     7.715904     1.431839   \n",
       "min    3.400000e+01   -79.228282    35.444594    22.452138     1.000000   \n",
       "25%    3.771328e+05   -78.873875    35.756349    36.671926     2.000000   \n",
       "50%    7.437685e+05   -78.756112    35.827054    41.585939     3.000000   \n",
       "75%    1.127228e+06   -78.634398    35.936086    47.005610     4.000000   \n",
       "max    1.507280e+06   -78.384012    36.184802    78.734115     5.000000   \n",
       "\n",
       "             Price   Experience        Other  will_attend  \n",
       "count  6802.000000  6802.000000  6802.000000  6802.000000  \n",
       "mean      2.473684     1.842105     2.421053     0.058806  \n",
       "std       1.141109     0.812020     1.091472     0.235279  \n",
       "min       1.000000     1.000000     1.000000     0.000000  \n",
       "25%       1.000000     1.000000     1.000000     0.000000  \n",
       "50%       2.000000     2.000000     2.000000     0.000000  \n",
       "75%       4.000000     3.000000     3.000000     0.000000  \n",
       "max       4.000000     3.000000     4.000000     1.000000  "
      ]
     },
     "execution_count": 185,
     "metadata": {},
     "output_type": "execute_result"
    }
   ],
   "source": [
    "df.describe()"
   ]
  },
  {
   "cell_type": "code",
   "execution_count": 186,
   "metadata": {},
   "outputs": [],
   "source": [
    "# listing of our different variable types: categorical, target\n",
    "cat_vars = ['Location', 'Price', 'Experience', 'Other', 'race', 'sex',\n",
    "                   'income']\n",
    "target_col = 'will_attend'\n",
    "int_vars = ['ages', 'Price', 'will_attend']"
   ]
  },
  {
   "cell_type": "code",
   "execution_count": 187,
   "metadata": {},
   "outputs": [
    {
     "data": {
      "image/png": "[encoded data removed]",
      "text/plain": [
       "<matplotlib.figure.Figure at 0x1a9c5471b70>"
      ]
     },
     "metadata": {},
     "output_type": "display_data"
    },
    {
     "data": {
      "image/png": "[encoded data removed]",
      "text/plain": [
       "<matplotlib.figure.Figure at 0x1a9c4961da0>"
      ]
     },
     "metadata": {},
     "output_type": "display_data"
    },
    {
     "data": {
      "image/png": "[encoded data removed]",
      "text/plain": [
       "<matplotlib.figure.Figure at 0x1a9c4d2c668>"
      ]
     },
     "metadata": {},
     "output_type": "display_data"
    },
    {
     "data": {
      "image/png": "[encoded data removed]",
      "text/plain": [
       "<matplotlib.figure.Figure at 0x1a9c499d7f0>"
      ]
     },
     "metadata": {},
     "output_type": "display_data"
    },
    {
     "data": {
      "image/png": "[encoded data removed]",
      "text/plain": [
       "<matplotlib.figure.Figure at 0x1a9c5239b70>"
      ]
     },
     "metadata": {},
     "output_type": "display_data"
    },
    {
     "data": {
      "image/png": "[encoded data removed]",
      "text/plain": [
       "<matplotlib.figure.Figure at 0x1a9c538d6a0>"
      ]
     },
     "metadata": {},
     "output_type": "display_data"
    },
    {
     "data": {
      "image/png": "[encoded data removed]",
      "text/plain": [
       "<matplotlib.figure.Figure at 0x1a9c404c2b0>"
      ]
     },
     "metadata": {},
     "output_type": "display_data"
    }
   ],
   "source": [
    "# to give an idea of what we asked people on the surveys\n",
    "for i, col in enumerate(cat_vars):\n",
    "    df1 = df[col]\n",
    "    counts = df1.value_counts()\n",
    "    plt.figure(figsize=(10,5))\n",
    "    sns.barplot(counts.index, counts.values, alpha=0.8)\n",
    "    plt.title('Counts for ' + cat_vars[i])\n",
    "    plt.ylabel('Number of Occurrences')\n",
    "    plt.xlabel(cat_vars[i], fontsize=12)\n",
    "    plt.show()"
   ]
  },
  {
   "cell_type": "code",
   "execution_count": 188,
   "metadata": {},
   "outputs": [
    {
     "data": {
      "image/png": "[encoded data removed]",
      "text/plain": [
       "<matplotlib.figure.Figure at 0x1a9c5071d68>"
      ]
     },
     "metadata": {},
     "output_type": "display_data"
    }
   ],
   "source": [
    "sns.countplot(x=target_col, data=df, palette='hls')\n",
    "plt.show() # plot of who said they would attend"
   ]
  },
  {
   "cell_type": "code",
   "execution_count": 189,
   "metadata": {},
   "outputs": [
    {
     "name": "stdout",
     "output_type": "stream",
     "text": [
      "percentage of not attending is 94.11937665392531\n",
      "percentage of attending 5.8806233460746835\n"
     ]
    }
   ],
   "source": [
    "count_no_sub = len(df[df[target_col]==0])\n",
    "count_sub = len(df[df[target_col]==1])\n",
    "pct_of_no_sub = count_no_sub/(count_no_sub+count_sub)\n",
    "print(\"percentage of not attending is\", pct_of_no_sub*100)\n",
    "pct_of_sub = count_sub/(count_no_sub+count_sub)\n",
    "print(\"percentage of attending\", pct_of_sub*100) # a look at what proportion said they would attend"
   ]
  },
  {
   "cell_type": "code",
   "execution_count": 190,
   "metadata": {},
   "outputs": [
    {
     "data": {
      "text/html": [
       "<div>\n",
       "<style scoped>\n",
       "    .dataframe tbody tr th:only-of-type {\n",
       "        vertical-align: middle;\n",
       "    }\n",
       "\n",
       "    .dataframe tbody tr th {\n",
       "        vertical-align: top;\n",
       "    }\n",
       "\n",
       "    .dataframe thead th {\n",
       "        text-align: right;\n",
       "    }\n",
       "</style>\n",
       "<table border=\"1\" class=\"dataframe\">\n",
       "  <thead>\n",
       "    <tr style=\"text-align: right;\">\n",
       "      <th></th>\n",
       "      <th>ages</th>\n",
       "      <th>Price</th>\n",
       "      <th>will_attend</th>\n",
       "    </tr>\n",
       "    <tr>\n",
       "      <th>will_attend</th>\n",
       "      <th></th>\n",
       "      <th></th>\n",
       "      <th></th>\n",
       "    </tr>\n",
       "  </thead>\n",
       "  <tbody>\n",
       "    <tr>\n",
       "      <th>0</th>\n",
       "      <td>42.375401</td>\n",
       "      <td>2.489691</td>\n",
       "      <td>0.0</td>\n",
       "    </tr>\n",
       "    <tr>\n",
       "      <th>1</th>\n",
       "      <td>39.002687</td>\n",
       "      <td>2.217500</td>\n",
       "      <td>1.0</td>\n",
       "    </tr>\n",
       "  </tbody>\n",
       "</table>\n",
       "</div>"
      ],
      "text/plain": [
       "                  ages     Price  will_attend\n",
       "will_attend                                  \n",
       "0            42.375401  2.489691          0.0\n",
       "1            39.002687  2.217500          1.0"
      ]
     },
     "execution_count": 190,
     "metadata": {},
     "output_type": "execute_result"
    }
   ],
   "source": [
    "df.groupby(target_col)[int_vars].mean()\n",
    "# age of those who attend is about 3 years younger on average\n",
    "# those attending responded better to lower prices"
   ]
  },
  {
   "cell_type": "code",
   "execution_count": 191,
   "metadata": {},
   "outputs": [
    {
     "data": {
      "text/html": [
       "<div>\n",
       "<style scoped>\n",
       "    .dataframe tbody tr th:only-of-type {\n",
       "        vertical-align: middle;\n",
       "    }\n",
       "\n",
       "    .dataframe tbody tr th {\n",
       "        vertical-align: top;\n",
       "    }\n",
       "\n",
       "    .dataframe thead th {\n",
       "        text-align: right;\n",
       "    }\n",
       "</style>\n",
       "<table border=\"1\" class=\"dataframe\">\n",
       "  <thead>\n",
       "    <tr style=\"text-align: right;\">\n",
       "      <th></th>\n",
       "      <th>ages</th>\n",
       "      <th>Price</th>\n",
       "      <th>will_attend</th>\n",
       "    </tr>\n",
       "    <tr>\n",
       "      <th>Location</th>\n",
       "      <th></th>\n",
       "      <th></th>\n",
       "      <th></th>\n",
       "    </tr>\n",
       "  </thead>\n",
       "  <tbody>\n",
       "    <tr>\n",
       "      <th>1</th>\n",
       "      <td>41.802011</td>\n",
       "      <td>2.500000</td>\n",
       "      <td>0.067737</td>\n",
       "    </tr>\n",
       "    <tr>\n",
       "      <th>2</th>\n",
       "      <td>42.457151</td>\n",
       "      <td>2.333333</td>\n",
       "      <td>0.119181</td>\n",
       "    </tr>\n",
       "    <tr>\n",
       "      <th>3</th>\n",
       "      <td>42.496625</td>\n",
       "      <td>2.500000</td>\n",
       "      <td>0.081006</td>\n",
       "    </tr>\n",
       "    <tr>\n",
       "      <th>4</th>\n",
       "      <td>42.256221</td>\n",
       "      <td>2.500000</td>\n",
       "      <td>0.000000</td>\n",
       "    </tr>\n",
       "    <tr>\n",
       "      <th>5</th>\n",
       "      <td>41.943337</td>\n",
       "      <td>2.500000</td>\n",
       "      <td>0.041201</td>\n",
       "    </tr>\n",
       "  </tbody>\n",
       "</table>\n",
       "</div>"
      ],
      "text/plain": [
       "               ages     Price  will_attend\n",
       "Location                                  \n",
       "1         41.802011  2.500000     0.067737\n",
       "2         42.457151  2.333333     0.119181\n",
       "3         42.496625  2.500000     0.081006\n",
       "4         42.256221  2.500000     0.000000\n",
       "5         41.943337  2.500000     0.041201"
      ]
     },
     "metadata": {},
     "output_type": "display_data"
    },
    {
     "data": {
      "text/html": [
       "<div>\n",
       "<style scoped>\n",
       "    .dataframe tbody tr th:only-of-type {\n",
       "        vertical-align: middle;\n",
       "    }\n",
       "\n",
       "    .dataframe tbody tr th {\n",
       "        vertical-align: top;\n",
       "    }\n",
       "\n",
       "    .dataframe thead th {\n",
       "        text-align: right;\n",
       "    }\n",
       "</style>\n",
       "<table border=\"1\" class=\"dataframe\">\n",
       "  <thead>\n",
       "    <tr style=\"text-align: right;\">\n",
       "      <th></th>\n",
       "      <th>ages</th>\n",
       "      <th>Price</th>\n",
       "      <th>will_attend</th>\n",
       "    </tr>\n",
       "    <tr>\n",
       "      <th>Price</th>\n",
       "      <th></th>\n",
       "      <th></th>\n",
       "      <th></th>\n",
       "    </tr>\n",
       "  </thead>\n",
       "  <tbody>\n",
       "    <tr>\n",
       "      <th>1</th>\n",
       "      <td>42.339579</td>\n",
       "      <td>1.0</td>\n",
       "      <td>0.070391</td>\n",
       "    </tr>\n",
       "    <tr>\n",
       "      <th>2</th>\n",
       "      <td>42.172429</td>\n",
       "      <td>2.0</td>\n",
       "      <td>0.085475</td>\n",
       "    </tr>\n",
       "    <tr>\n",
       "      <th>3</th>\n",
       "      <td>42.231970</td>\n",
       "      <td>3.0</td>\n",
       "      <td>0.020251</td>\n",
       "    </tr>\n",
       "    <tr>\n",
       "      <th>4</th>\n",
       "      <td>41.975262</td>\n",
       "      <td>4.0</td>\n",
       "      <td>0.051397</td>\n",
       "    </tr>\n",
       "  </tbody>\n",
       "</table>\n",
       "</div>"
      ],
      "text/plain": [
       "            ages  Price  will_attend\n",
       "Price                               \n",
       "1      42.339579    1.0     0.070391\n",
       "2      42.172429    2.0     0.085475\n",
       "3      42.231970    3.0     0.020251\n",
       "4      41.975262    4.0     0.051397"
      ]
     },
     "metadata": {},
     "output_type": "display_data"
    },
    {
     "data": {
      "text/html": [
       "<div>\n",
       "<style scoped>\n",
       "    .dataframe tbody tr th:only-of-type {\n",
       "        vertical-align: middle;\n",
       "    }\n",
       "\n",
       "    .dataframe tbody tr th {\n",
       "        vertical-align: top;\n",
       "    }\n",
       "\n",
       "    .dataframe thead th {\n",
       "        text-align: right;\n",
       "    }\n",
       "</style>\n",
       "<table border=\"1\" class=\"dataframe\">\n",
       "  <thead>\n",
       "    <tr style=\"text-align: right;\">\n",
       "      <th></th>\n",
       "      <th>ages</th>\n",
       "      <th>Price</th>\n",
       "      <th>will_attend</th>\n",
       "    </tr>\n",
       "    <tr>\n",
       "      <th>Experience</th>\n",
       "      <th></th>\n",
       "      <th></th>\n",
       "      <th></th>\n",
       "    </tr>\n",
       "  </thead>\n",
       "  <tbody>\n",
       "    <tr>\n",
       "      <th>1</th>\n",
       "      <td>42.205278</td>\n",
       "      <td>2.5</td>\n",
       "      <td>0.027235</td>\n",
       "    </tr>\n",
       "    <tr>\n",
       "      <th>2</th>\n",
       "      <td>42.023114</td>\n",
       "      <td>2.5</td>\n",
       "      <td>0.025140</td>\n",
       "    </tr>\n",
       "    <tr>\n",
       "      <th>3</th>\n",
       "      <td>42.316666</td>\n",
       "      <td>2.4</td>\n",
       "      <td>0.149721</td>\n",
       "    </tr>\n",
       "  </tbody>\n",
       "</table>\n",
       "</div>"
      ],
      "text/plain": [
       "                 ages  Price  will_attend\n",
       "Experience                               \n",
       "1           42.205278    2.5     0.027235\n",
       "2           42.023114    2.5     0.025140\n",
       "3           42.316666    2.4     0.149721"
      ]
     },
     "metadata": {},
     "output_type": "display_data"
    },
    {
     "data": {
      "text/html": [
       "<div>\n",
       "<style scoped>\n",
       "    .dataframe tbody tr th:only-of-type {\n",
       "        vertical-align: middle;\n",
       "    }\n",
       "\n",
       "    .dataframe tbody tr th {\n",
       "        vertical-align: top;\n",
       "    }\n",
       "\n",
       "    .dataframe thead th {\n",
       "        text-align: right;\n",
       "    }\n",
       "</style>\n",
       "<table border=\"1\" class=\"dataframe\">\n",
       "  <thead>\n",
       "    <tr style=\"text-align: right;\">\n",
       "      <th></th>\n",
       "      <th>ages</th>\n",
       "      <th>Price</th>\n",
       "      <th>will_attend</th>\n",
       "    </tr>\n",
       "    <tr>\n",
       "      <th>Other</th>\n",
       "      <th></th>\n",
       "      <th></th>\n",
       "      <th></th>\n",
       "    </tr>\n",
       "  </thead>\n",
       "  <tbody>\n",
       "    <tr>\n",
       "      <th>1</th>\n",
       "      <td>41.946114</td>\n",
       "      <td>2.2</td>\n",
       "      <td>0.017877</td>\n",
       "    </tr>\n",
       "    <tr>\n",
       "      <th>2</th>\n",
       "      <td>42.438429</td>\n",
       "      <td>2.8</td>\n",
       "      <td>0.012291</td>\n",
       "    </tr>\n",
       "    <tr>\n",
       "      <th>3</th>\n",
       "      <td>42.142397</td>\n",
       "      <td>2.4</td>\n",
       "      <td>0.088827</td>\n",
       "    </tr>\n",
       "    <tr>\n",
       "      <th>4</th>\n",
       "      <td>42.182383</td>\n",
       "      <td>2.5</td>\n",
       "      <td>0.130587</td>\n",
       "    </tr>\n",
       "  </tbody>\n",
       "</table>\n",
       "</div>"
      ],
      "text/plain": [
       "            ages  Price  will_attend\n",
       "Other                               \n",
       "1      41.946114    2.2     0.017877\n",
       "2      42.438429    2.8     0.012291\n",
       "3      42.142397    2.4     0.088827\n",
       "4      42.182383    2.5     0.130587"
      ]
     },
     "metadata": {},
     "output_type": "display_data"
    },
    {
     "data": {
      "text/html": [
       "<div>\n",
       "<style scoped>\n",
       "    .dataframe tbody tr th:only-of-type {\n",
       "        vertical-align: middle;\n",
       "    }\n",
       "\n",
       "    .dataframe tbody tr th {\n",
       "        vertical-align: top;\n",
       "    }\n",
       "\n",
       "    .dataframe thead th {\n",
       "        text-align: right;\n",
       "    }\n",
       "</style>\n",
       "<table border=\"1\" class=\"dataframe\">\n",
       "  <thead>\n",
       "    <tr style=\"text-align: right;\">\n",
       "      <th></th>\n",
       "      <th>ages</th>\n",
       "      <th>Price</th>\n",
       "      <th>will_attend</th>\n",
       "    </tr>\n",
       "    <tr>\n",
       "      <th>race</th>\n",
       "      <th></th>\n",
       "      <th></th>\n",
       "      <th></th>\n",
       "    </tr>\n",
       "  </thead>\n",
       "  <tbody>\n",
       "    <tr>\n",
       "      <th>Aisian/Other</th>\n",
       "      <td>42.503434</td>\n",
       "      <td>2.526946</td>\n",
       "      <td>0.053892</td>\n",
       "    </tr>\n",
       "    <tr>\n",
       "      <th>Black</th>\n",
       "      <td>41.935304</td>\n",
       "      <td>2.487487</td>\n",
       "      <td>0.056056</td>\n",
       "    </tr>\n",
       "    <tr>\n",
       "      <th>Hispanic</th>\n",
       "      <td>42.485812</td>\n",
       "      <td>2.472914</td>\n",
       "      <td>0.064422</td>\n",
       "    </tr>\n",
       "    <tr>\n",
       "      <th>White</th>\n",
       "      <td>42.160691</td>\n",
       "      <td>2.467196</td>\n",
       "      <td>0.058922</td>\n",
       "    </tr>\n",
       "  </tbody>\n",
       "</table>\n",
       "</div>"
      ],
      "text/plain": [
       "                   ages     Price  will_attend\n",
       "race                                          \n",
       "Aisian/Other  42.503434  2.526946     0.053892\n",
       "Black         41.935304  2.487487     0.056056\n",
       "Hispanic      42.485812  2.472914     0.064422\n",
       "White         42.160691  2.467196     0.058922"
      ]
     },
     "metadata": {},
     "output_type": "display_data"
    },
    {
     "data": {
      "text/html": [
       "<div>\n",
       "<style scoped>\n",
       "    .dataframe tbody tr th:only-of-type {\n",
       "        vertical-align: middle;\n",
       "    }\n",
       "\n",
       "    .dataframe tbody tr th {\n",
       "        vertical-align: top;\n",
       "    }\n",
       "\n",
       "    .dataframe thead th {\n",
       "        text-align: right;\n",
       "    }\n",
       "</style>\n",
       "<table border=\"1\" class=\"dataframe\">\n",
       "  <thead>\n",
       "    <tr style=\"text-align: right;\">\n",
       "      <th></th>\n",
       "      <th>ages</th>\n",
       "      <th>Price</th>\n",
       "      <th>will_attend</th>\n",
       "    </tr>\n",
       "    <tr>\n",
       "      <th>sex</th>\n",
       "      <th></th>\n",
       "      <th></th>\n",
       "      <th></th>\n",
       "    </tr>\n",
       "  </thead>\n",
       "  <tbody>\n",
       "    <tr>\n",
       "      <th>F</th>\n",
       "      <td>42.284576</td>\n",
       "      <td>2.493831</td>\n",
       "      <td>0.059929</td>\n",
       "    </tr>\n",
       "    <tr>\n",
       "      <th>M</th>\n",
       "      <td>42.069364</td>\n",
       "      <td>2.453502</td>\n",
       "      <td>0.057681</td>\n",
       "    </tr>\n",
       "  </tbody>\n",
       "</table>\n",
       "</div>"
      ],
      "text/plain": [
       "          ages     Price  will_attend\n",
       "sex                                  \n",
       "F    42.284576  2.493831     0.059929\n",
       "M    42.069364  2.453502     0.057681"
      ]
     },
     "metadata": {},
     "output_type": "display_data"
    },
    {
     "data": {
      "text/html": [
       "<div>\n",
       "<style scoped>\n",
       "    .dataframe tbody tr th:only-of-type {\n",
       "        vertical-align: middle;\n",
       "    }\n",
       "\n",
       "    .dataframe tbody tr th {\n",
       "        vertical-align: top;\n",
       "    }\n",
       "\n",
       "    .dataframe thead th {\n",
       "        text-align: right;\n",
       "    }\n",
       "</style>\n",
       "<table border=\"1\" class=\"dataframe\">\n",
       "  <thead>\n",
       "    <tr style=\"text-align: right;\">\n",
       "      <th></th>\n",
       "      <th>ages</th>\n",
       "      <th>Price</th>\n",
       "      <th>will_attend</th>\n",
       "    </tr>\n",
       "    <tr>\n",
       "      <th>income</th>\n",
       "      <th></th>\n",
       "      <th></th>\n",
       "      <th></th>\n",
       "    </tr>\n",
       "  </thead>\n",
       "  <tbody>\n",
       "    <tr>\n",
       "      <th>100-150k</th>\n",
       "      <td>41.962172</td>\n",
       "      <td>2.511693</td>\n",
       "      <td>0.077643</td>\n",
       "    </tr>\n",
       "    <tr>\n",
       "      <th>25-50k</th>\n",
       "      <td>42.177333</td>\n",
       "      <td>2.438838</td>\n",
       "      <td>0.056575</td>\n",
       "    </tr>\n",
       "    <tr>\n",
       "      <th>50-75k</th>\n",
       "      <td>42.462852</td>\n",
       "      <td>2.496148</td>\n",
       "      <td>0.051618</td>\n",
       "    </tr>\n",
       "    <tr>\n",
       "      <th>75-100k</th>\n",
       "      <td>42.009440</td>\n",
       "      <td>2.453549</td>\n",
       "      <td>0.058123</td>\n",
       "    </tr>\n",
       "    <tr>\n",
       "      <th>&lt;25k</th>\n",
       "      <td>42.347413</td>\n",
       "      <td>2.441003</td>\n",
       "      <td>0.047198</td>\n",
       "    </tr>\n",
       "    <tr>\n",
       "      <th>&gt;150k</th>\n",
       "      <td>42.447826</td>\n",
       "      <td>2.588571</td>\n",
       "      <td>0.062857</td>\n",
       "    </tr>\n",
       "  </tbody>\n",
       "</table>\n",
       "</div>"
      ],
      "text/plain": [
       "               ages     Price  will_attend\n",
       "income                                    \n",
       "100-150k  41.962172  2.511693     0.077643\n",
       "25-50k    42.177333  2.438838     0.056575\n",
       "50-75k    42.462852  2.496148     0.051618\n",
       "75-100k   42.009440  2.453549     0.058123\n",
       "<25k      42.347413  2.441003     0.047198\n",
       ">150k     42.447826  2.588571     0.062857"
      ]
     },
     "metadata": {},
     "output_type": "display_data"
    }
   ],
   "source": [
    "# break down descriptive stats for different groupings\n",
    "for col in cat_vars: # ages, Price, will_attend are really the only meaningful columns below\n",
    "    display(df.groupby(col)[int_vars].mean())"
   ]
  },
  {
   "cell_type": "code",
   "execution_count": 175,
   "metadata": {
    "scrolled": false
   },
   "outputs": [
    {
     "data": {
      "image/png": "[encoded data removed]",
      "text/plain": [
       "<matplotlib.figure.Figure at 0x1a9c7448e48>"
      ]
     },
     "metadata": {},
     "output_type": "display_data"
    },
    {
     "data": {
      "image/png": "[encoded data removed]",
      "text/plain": [
       "<matplotlib.figure.Figure at 0x1a9c74f35f8>"
      ]
     },
     "metadata": {},
     "output_type": "display_data"
    },
    {
     "data": {
      "image/png": "[encoded data removed]",
      "text/plain": [
       "<matplotlib.figure.Figure at 0x1a9c534f9b0>"
      ]
     },
     "metadata": {},
     "output_type": "display_data"
    },
    {
     "data": {
      "image/png": "[encoded data removed]",
      "text/plain": [
       "<matplotlib.figure.Figure at 0x1a9c539ec50>"
      ]
     },
     "metadata": {},
     "output_type": "display_data"
    },
    {
     "data": {
      "image/png": "[encoded data removed]",
      "text/plain": [
       "<matplotlib.figure.Figure at 0x1a9c5393518>"
      ]
     },
     "metadata": {},
     "output_type": "display_data"
    },
    {
     "data": {
      "image/png": "[encoded data removed]",
      "text/plain": [
       "<matplotlib.figure.Figure at 0x1a9c39f0d68>"
      ]
     },
     "metadata": {},
     "output_type": "display_data"
    },
    {
     "data": {
      "image/png": "[encoded data removed]",
      "text/plain": [
       "<matplotlib.figure.Figure at 0x1a9c4a715c0>"
      ]
     },
     "metadata": {},
     "output_type": "display_data"
    }
   ],
   "source": [
    "%matplotlib inline\n",
    "for col in cat_vars:\n",
    "    pd.crosstab(df[col], df[target_col]).plot(kind='bar')\n",
    "    plt.title('Attendance Frequency for ' + col)\n",
    "    plt.xlabel(col)\n",
    "    plt.ylabel('Frequency of Attendance')\n",
    "# locations 1 2 3 are the most popular\n",
    "# price 2 is most popular\n",
    "# experience 3 is most popular\n",
    "# others 3 4 are the most popular"
   ]
  },
  {
   "cell_type": "code",
   "execution_count": 176,
   "metadata": {
    "scrolled": false
   },
   "outputs": [
    {
     "data": {
      "image/png": "[encoded data removed]",
      "text/plain": [
       "<matplotlib.figure.Figure at 0x1a9c743bba8>"
      ]
     },
     "metadata": {},
     "output_type": "display_data"
    },
    {
     "data": {
      "image/png": "[encoded data removed]",
      "text/plain": [
       "<matplotlib.figure.Figure at 0x1a9c4ecb470>"
      ]
     },
     "metadata": {},
     "output_type": "display_data"
    },
    {
     "data": {
      "image/png": "[encoded data removed]",
      "text/plain": [
       "<matplotlib.figure.Figure at 0x1a9c528ec88>"
      ]
     },
     "metadata": {},
     "output_type": "display_data"
    },
    {
     "data": {
      "image/png": "[encoded data removed]",
      "text/plain": [
       "<matplotlib.figure.Figure at 0x1a9c532ce48>"
      ]
     },
     "metadata": {},
     "output_type": "display_data"
    },
    {
     "data": {
      "image/png": "[encoded data removed]",
      "text/plain": [
       "<matplotlib.figure.Figure at 0x1a9c50587f0>"
      ]
     },
     "metadata": {},
     "output_type": "display_data"
    },
    {
     "data": {
      "image/png": "[encoded data removed]",
      "text/plain": [
       "<matplotlib.figure.Figure at 0x1a9c4da8438>"
      ]
     },
     "metadata": {},
     "output_type": "display_data"
    },
    {
     "data": {
      "image/png": "[encoded data removed]",
      "text/plain": [
       "<matplotlib.figure.Figure at 0x1a9c535c320>"
      ]
     },
     "metadata": {},
     "output_type": "display_data"
    }
   ],
   "source": [
    "# visualizes the same thing as above but in a different way\n",
    "for col in cat_vars:\n",
    "    table = pd.crosstab(df[col], df[target_col])\n",
    "    table.div(table.sum(1).astype(float), axis=0).plot(kind='bar', stacked=True)\n",
    "    plt.title('Stacked Bar Chart of ' + col + ' vs Attendance')\n",
    "    plt.xlabel(col)\n",
    "    plt.ylabel('Proportion Attending')"
   ]
  },
  {
   "cell_type": "code",
   "execution_count": 177,
   "metadata": {},
   "outputs": [
    {
     "data": {
      "text/plain": [
       "Text(0,0.5,'Frequency')"
      ]
     },
     "execution_count": 177,
     "metadata": {},
     "output_type": "execute_result"
    },
    {
     "data": {
      "image/png": "[encoded data removed]",
      "text/plain": [
       "<matplotlib.figure.Figure at 0x1a9c7420668>"
      ]
     },
     "metadata": {},
     "output_type": "display_data"
    }
   ],
   "source": [
    "df['ages'].hist() # most people between 35-50 years old\n",
    "plt.title('Histogram of Age')\n",
    "plt.xlabel('Age')\n",
    "plt.ylabel('Frequency') "
   ]
  },
  {
   "cell_type": "code",
   "execution_count": 178,
   "metadata": {},
   "outputs": [],
   "source": [
    "# one hot encoding\n",
    "for var in cat_vars:\n",
    "    cat_list='var'+'_'+var\n",
    "    cat_list = pd.get_dummies(df[var], prefix=var)\n",
    "    df1=df.join(cat_list)\n",
    "    df=df1"
   ]
  },
  {
   "cell_type": "code",
   "execution_count": 179,
   "metadata": {},
   "outputs": [
    {
     "data": {
      "text/html": [
       "<div>\n",
       "<style scoped>\n",
       "    .dataframe tbody tr th:only-of-type {\n",
       "        vertical-align: middle;\n",
       "    }\n",
       "\n",
       "    .dataframe tbody tr th {\n",
       "        vertical-align: top;\n",
       "    }\n",
       "\n",
       "    .dataframe thead th {\n",
       "        text-align: right;\n",
       "    }\n",
       "</style>\n",
       "<table border=\"1\" class=\"dataframe\">\n",
       "  <thead>\n",
       "    <tr style=\"text-align: right;\">\n",
       "      <th></th>\n",
       "      <th>ID</th>\n",
       "      <th>LONG</th>\n",
       "      <th>LAT</th>\n",
       "      <th>ages</th>\n",
       "      <th>race</th>\n",
       "      <th>sex</th>\n",
       "      <th>income</th>\n",
       "      <th>Location</th>\n",
       "      <th>Price</th>\n",
       "      <th>Experience</th>\n",
       "      <th>Other</th>\n",
       "      <th>will_attend</th>\n",
       "      <th>Location_1</th>\n",
       "      <th>Location_2</th>\n",
       "      <th>Location_3</th>\n",
       "      <th>Location_4</th>\n",
       "      <th>Location_5</th>\n",
       "      <th>Price_1</th>\n",
       "      <th>Price_2</th>\n",
       "      <th>Price_3</th>\n",
       "      <th>Price_4</th>\n",
       "      <th>Experience_1</th>\n",
       "      <th>Experience_2</th>\n",
       "      <th>Experience_3</th>\n",
       "      <th>Other_1</th>\n",
       "      <th>Other_2</th>\n",
       "      <th>Other_3</th>\n",
       "      <th>Other_4</th>\n",
       "      <th>race_Aisian/Other</th>\n",
       "      <th>race_Black</th>\n",
       "      <th>race_Hispanic</th>\n",
       "      <th>race_White</th>\n",
       "      <th>sex_F</th>\n",
       "      <th>sex_M</th>\n",
       "      <th>income_100-150k</th>\n",
       "      <th>income_25-50k</th>\n",
       "      <th>income_50-75k</th>\n",
       "      <th>income_75-100k</th>\n",
       "      <th>income_&lt;25k</th>\n",
       "      <th>income_&gt;150k</th>\n",
       "    </tr>\n",
       "  </thead>\n",
       "  <tbody>\n",
       "    <tr>\n",
       "      <th>0</th>\n",
       "      <td>34</td>\n",
       "      <td>-78.573908</td>\n",
       "      <td>35.790983</td>\n",
       "      <td>48.348342</td>\n",
       "      <td>Black</td>\n",
       "      <td>M</td>\n",
       "      <td>&lt;25k</td>\n",
       "      <td>1</td>\n",
       "      <td>4</td>\n",
       "      <td>3</td>\n",
       "      <td>3</td>\n",
       "      <td>0</td>\n",
       "      <td>1</td>\n",
       "      <td>0</td>\n",
       "      <td>0</td>\n",
       "      <td>0</td>\n",
       "      <td>0</td>\n",
       "      <td>0</td>\n",
       "      <td>0</td>\n",
       "      <td>0</td>\n",
       "      <td>1</td>\n",
       "      <td>0</td>\n",
       "      <td>0</td>\n",
       "      <td>1</td>\n",
       "      <td>0</td>\n",
       "      <td>0</td>\n",
       "      <td>1</td>\n",
       "      <td>0</td>\n",
       "      <td>0</td>\n",
       "      <td>1</td>\n",
       "      <td>0</td>\n",
       "      <td>0</td>\n",
       "      <td>0</td>\n",
       "      <td>1</td>\n",
       "      <td>0</td>\n",
       "      <td>0</td>\n",
       "      <td>0</td>\n",
       "      <td>0</td>\n",
       "      <td>1</td>\n",
       "      <td>0</td>\n",
       "    </tr>\n",
       "    <tr>\n",
       "      <th>1</th>\n",
       "      <td>159</td>\n",
       "      <td>-78.658352</td>\n",
       "      <td>35.803606</td>\n",
       "      <td>26.371383</td>\n",
       "      <td>White</td>\n",
       "      <td>F</td>\n",
       "      <td>75-100k</td>\n",
       "      <td>5</td>\n",
       "      <td>2</td>\n",
       "      <td>1</td>\n",
       "      <td>3</td>\n",
       "      <td>0</td>\n",
       "      <td>0</td>\n",
       "      <td>0</td>\n",
       "      <td>0</td>\n",
       "      <td>0</td>\n",
       "      <td>1</td>\n",
       "      <td>0</td>\n",
       "      <td>1</td>\n",
       "      <td>0</td>\n",
       "      <td>0</td>\n",
       "      <td>1</td>\n",
       "      <td>0</td>\n",
       "      <td>0</td>\n",
       "      <td>0</td>\n",
       "      <td>0</td>\n",
       "      <td>1</td>\n",
       "      <td>0</td>\n",
       "      <td>0</td>\n",
       "      <td>0</td>\n",
       "      <td>0</td>\n",
       "      <td>1</td>\n",
       "      <td>1</td>\n",
       "      <td>0</td>\n",
       "      <td>0</td>\n",
       "      <td>0</td>\n",
       "      <td>0</td>\n",
       "      <td>1</td>\n",
       "      <td>0</td>\n",
       "      <td>0</td>\n",
       "    </tr>\n",
       "    <tr>\n",
       "      <th>2</th>\n",
       "      <td>280</td>\n",
       "      <td>-78.663104</td>\n",
       "      <td>35.819915</td>\n",
       "      <td>34.121603</td>\n",
       "      <td>White</td>\n",
       "      <td>F</td>\n",
       "      <td>25-50k</td>\n",
       "      <td>1</td>\n",
       "      <td>1</td>\n",
       "      <td>2</td>\n",
       "      <td>1</td>\n",
       "      <td>0</td>\n",
       "      <td>1</td>\n",
       "      <td>0</td>\n",
       "      <td>0</td>\n",
       "      <td>0</td>\n",
       "      <td>0</td>\n",
       "      <td>1</td>\n",
       "      <td>0</td>\n",
       "      <td>0</td>\n",
       "      <td>0</td>\n",
       "      <td>0</td>\n",
       "      <td>1</td>\n",
       "      <td>0</td>\n",
       "      <td>1</td>\n",
       "      <td>0</td>\n",
       "      <td>0</td>\n",
       "      <td>0</td>\n",
       "      <td>0</td>\n",
       "      <td>0</td>\n",
       "      <td>0</td>\n",
       "      <td>1</td>\n",
       "      <td>1</td>\n",
       "      <td>0</td>\n",
       "      <td>0</td>\n",
       "      <td>1</td>\n",
       "      <td>0</td>\n",
       "      <td>0</td>\n",
       "      <td>0</td>\n",
       "      <td>0</td>\n",
       "    </tr>\n",
       "    <tr>\n",
       "      <th>3</th>\n",
       "      <td>423</td>\n",
       "      <td>-78.521571</td>\n",
       "      <td>35.891935</td>\n",
       "      <td>43.571950</td>\n",
       "      <td>White</td>\n",
       "      <td>M</td>\n",
       "      <td>25-50k</td>\n",
       "      <td>3</td>\n",
       "      <td>1</td>\n",
       "      <td>3</td>\n",
       "      <td>4</td>\n",
       "      <td>1</td>\n",
       "      <td>0</td>\n",
       "      <td>0</td>\n",
       "      <td>1</td>\n",
       "      <td>0</td>\n",
       "      <td>0</td>\n",
       "      <td>1</td>\n",
       "      <td>0</td>\n",
       "      <td>0</td>\n",
       "      <td>0</td>\n",
       "      <td>0</td>\n",
       "      <td>0</td>\n",
       "      <td>1</td>\n",
       "      <td>0</td>\n",
       "      <td>0</td>\n",
       "      <td>0</td>\n",
       "      <td>1</td>\n",
       "      <td>0</td>\n",
       "      <td>0</td>\n",
       "      <td>0</td>\n",
       "      <td>1</td>\n",
       "      <td>0</td>\n",
       "      <td>1</td>\n",
       "      <td>0</td>\n",
       "      <td>1</td>\n",
       "      <td>0</td>\n",
       "      <td>0</td>\n",
       "      <td>0</td>\n",
       "      <td>0</td>\n",
       "    </tr>\n",
       "    <tr>\n",
       "      <th>4</th>\n",
       "      <td>932</td>\n",
       "      <td>-78.646293</td>\n",
       "      <td>35.821340</td>\n",
       "      <td>36.240983</td>\n",
       "      <td>Hispanic</td>\n",
       "      <td>F</td>\n",
       "      <td>25-50k</td>\n",
       "      <td>4</td>\n",
       "      <td>3</td>\n",
       "      <td>1</td>\n",
       "      <td>4</td>\n",
       "      <td>0</td>\n",
       "      <td>0</td>\n",
       "      <td>0</td>\n",
       "      <td>0</td>\n",
       "      <td>1</td>\n",
       "      <td>0</td>\n",
       "      <td>0</td>\n",
       "      <td>0</td>\n",
       "      <td>1</td>\n",
       "      <td>0</td>\n",
       "      <td>1</td>\n",
       "      <td>0</td>\n",
       "      <td>0</td>\n",
       "      <td>0</td>\n",
       "      <td>0</td>\n",
       "      <td>0</td>\n",
       "      <td>1</td>\n",
       "      <td>0</td>\n",
       "      <td>0</td>\n",
       "      <td>1</td>\n",
       "      <td>0</td>\n",
       "      <td>1</td>\n",
       "      <td>0</td>\n",
       "      <td>0</td>\n",
       "      <td>1</td>\n",
       "      <td>0</td>\n",
       "      <td>0</td>\n",
       "      <td>0</td>\n",
       "      <td>0</td>\n",
       "    </tr>\n",
       "  </tbody>\n",
       "</table>\n",
       "</div>"
      ],
      "text/plain": [
       "    ID       LONG        LAT       ages      race sex   income  Location  \\\n",
       "0   34 -78.573908  35.790983  48.348342     Black   M     <25k         1   \n",
       "1  159 -78.658352  35.803606  26.371383     White   F  75-100k         5   \n",
       "2  280 -78.663104  35.819915  34.121603     White   F   25-50k         1   \n",
       "3  423 -78.521571  35.891935  43.571950     White   M   25-50k         3   \n",
       "4  932 -78.646293  35.821340  36.240983  Hispanic   F   25-50k         4   \n",
       "\n",
       "   Price  Experience  Other  will_attend  Location_1  Location_2  Location_3  \\\n",
       "0      4           3      3            0           1           0           0   \n",
       "1      2           1      3            0           0           0           0   \n",
       "2      1           2      1            0           1           0           0   \n",
       "3      1           3      4            1           0           0           1   \n",
       "4      3           1      4            0           0           0           0   \n",
       "\n",
       "   Location_4  Location_5  Price_1  Price_2  Price_3  Price_4  Experience_1  \\\n",
       "0           0           0        0        0        0        1             0   \n",
       "1           0           1        0        1        0        0             1   \n",
       "2           0           0        1        0        0        0             0   \n",
       "3           0           0        1        0        0        0             0   \n",
       "4           1           0        0        0        1        0             1   \n",
       "\n",
       "   Experience_2  Experience_3  Other_1  Other_2  Other_3  Other_4  \\\n",
       "0             0             1        0        0        1        0   \n",
       "1             0             0        0        0        1        0   \n",
       "2             1             0        1        0        0        0   \n",
       "3             0             1        0        0        0        1   \n",
       "4             0             0        0        0        0        1   \n",
       "\n",
       "   race_Aisian/Other  race_Black  race_Hispanic  race_White  sex_F  sex_M  \\\n",
       "0                  0           1              0           0      0      1   \n",
       "1                  0           0              0           1      1      0   \n",
       "2                  0           0              0           1      1      0   \n",
       "3                  0           0              0           1      0      1   \n",
       "4                  0           0              1           0      1      0   \n",
       "\n",
       "   income_100-150k  income_25-50k  income_50-75k  income_75-100k  income_<25k  \\\n",
       "0                0              0              0               0            1   \n",
       "1                0              0              0               1            0   \n",
       "2                0              1              0               0            0   \n",
       "3                0              1              0               0            0   \n",
       "4                0              1              0               0            0   \n",
       "\n",
       "   income_>150k  \n",
       "0             0  \n",
       "1             0  \n",
       "2             0  \n",
       "3             0  \n",
       "4             0  "
      ]
     },
     "execution_count": 179,
     "metadata": {},
     "output_type": "execute_result"
    }
   ],
   "source": [
    "df.head() # taking a look at how the one hot encoding worked out"
   ]
  },
  {
   "cell_type": "code",
   "execution_count": null,
   "metadata": {},
   "outputs": [],
   "source": [
    "#adding eucledian distance to dataframe for each indivudal and each location\n",
    "Loc1 = [-78.878130,35.89314]\n",
    "Loc2 = [-78.875880,35.74628]\n",
    "Loc3 = [-78.676540,35.7724]\n",
    "Loc4 = [-79.054280,35.90535]\n",
    "Loc5 = [-78.575981,35.86696]\n",
    "\n",
    "df['distL1'] = (df[['LONG', 'LAT']] - np.array(Loc1)).pow(2).sum(1).pow(0.5)\n",
    "df['distL2'] = (df[['LONG', 'LAT']] - np.array(Loc2)).pow(2).sum(1).pow(0.5)\n",
    "df['distL3'] = (df[['LONG', 'LAT']] - np.array(Loc3)).pow(2).sum(1).pow(0.5)\n",
    "df['distL4'] = (df[['LONG', 'LAT']] - np.array(Loc4)).pow(2).sum(1).pow(0.5)\n",
    "df['distL5'] = (df[['LONG', 'LAT']] - np.array(Loc5)).pow(2).sum(1).pow(0.5)"
   ]
  }
 ],
 "metadata": {
  "kernelspec": {
   "display_name": "Python 3",
   "language": "python",
   "name": "python3"
  },
  "language_info": {
   "codemirror_mode": {
    "name": "ipython",
    "version": 3
   },
   "file_extension": ".py",
   "mimetype": "text/x-python",
   "name": "python",
   "nbconvert_exporter": "python",
   "pygments_lexer": "ipython3",
   "version": "3.6.5"
  }
 },
 "nbformat": 4,
 "nbformat_minor": 2
}
