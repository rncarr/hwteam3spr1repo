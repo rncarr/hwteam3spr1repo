{
 "cells": [
  {
   "cell_type": "code",
   "execution_count": 21,
   "metadata": {},
   "outputs": [],
   "source": [
    "import pandas as pd\n",
    "import numpy as np\n",
    "import os\n",
    "import matplotlib.pyplot as plt\n",
    "import seaborn as sns"
   ]
  },
  {
   "cell_type": "code",
   "execution_count": 7,
   "metadata": {},
   "outputs": [],
   "source": [
    "df = pd.read_csv(r'../data/DoE_part2_data.csv')"
   ]
  },
  {
   "cell_type": "code",
   "execution_count": 9,
   "metadata": {},
   "outputs": [
    {
     "data": {
      "text/html": [
       "<div>\n",
       "<style scoped>\n",
       "    .dataframe tbody tr th:only-of-type {\n",
       "        vertical-align: middle;\n",
       "    }\n",
       "\n",
       "    .dataframe tbody tr th {\n",
       "        vertical-align: top;\n",
       "    }\n",
       "\n",
       "    .dataframe thead th {\n",
       "        text-align: right;\n",
       "    }\n",
       "</style>\n",
       "<table border=\"1\" class=\"dataframe\">\n",
       "  <thead>\n",
       "    <tr style=\"text-align: right;\">\n",
       "      <th></th>\n",
       "      <th>Unnamed: 0</th>\n",
       "      <th>ID</th>\n",
       "      <th>LONG</th>\n",
       "      <th>LAT</th>\n",
       "      <th>ages</th>\n",
       "      <th>race</th>\n",
       "      <th>sex</th>\n",
       "      <th>income</th>\n",
       "      <th>Location</th>\n",
       "      <th>Price</th>\n",
       "      <th>Experience</th>\n",
       "      <th>Other</th>\n",
       "      <th>will_attend</th>\n",
       "    </tr>\n",
       "  </thead>\n",
       "  <tbody>\n",
       "    <tr>\n",
       "      <th>0</th>\n",
       "      <td>1</td>\n",
       "      <td>34</td>\n",
       "      <td>-78.573908</td>\n",
       "      <td>35.790983</td>\n",
       "      <td>48.348342</td>\n",
       "      <td>Black</td>\n",
       "      <td>M</td>\n",
       "      <td>&lt;25k</td>\n",
       "      <td>1</td>\n",
       "      <td>4</td>\n",
       "      <td>3</td>\n",
       "      <td>3</td>\n",
       "      <td>0</td>\n",
       "    </tr>\n",
       "    <tr>\n",
       "      <th>1</th>\n",
       "      <td>2</td>\n",
       "      <td>159</td>\n",
       "      <td>-78.658352</td>\n",
       "      <td>35.803606</td>\n",
       "      <td>26.371383</td>\n",
       "      <td>White</td>\n",
       "      <td>F</td>\n",
       "      <td>75-100k</td>\n",
       "      <td>5</td>\n",
       "      <td>2</td>\n",
       "      <td>1</td>\n",
       "      <td>3</td>\n",
       "      <td>0</td>\n",
       "    </tr>\n",
       "    <tr>\n",
       "      <th>2</th>\n",
       "      <td>3</td>\n",
       "      <td>280</td>\n",
       "      <td>-78.663104</td>\n",
       "      <td>35.819915</td>\n",
       "      <td>34.121603</td>\n",
       "      <td>White</td>\n",
       "      <td>F</td>\n",
       "      <td>25-50k</td>\n",
       "      <td>1</td>\n",
       "      <td>1</td>\n",
       "      <td>2</td>\n",
       "      <td>1</td>\n",
       "      <td>0</td>\n",
       "    </tr>\n",
       "    <tr>\n",
       "      <th>3</th>\n",
       "      <td>4</td>\n",
       "      <td>423</td>\n",
       "      <td>-78.521571</td>\n",
       "      <td>35.891935</td>\n",
       "      <td>43.571950</td>\n",
       "      <td>White</td>\n",
       "      <td>M</td>\n",
       "      <td>25-50k</td>\n",
       "      <td>3</td>\n",
       "      <td>1</td>\n",
       "      <td>3</td>\n",
       "      <td>4</td>\n",
       "      <td>1</td>\n",
       "    </tr>\n",
       "    <tr>\n",
       "      <th>4</th>\n",
       "      <td>5</td>\n",
       "      <td>932</td>\n",
       "      <td>-78.646293</td>\n",
       "      <td>35.821340</td>\n",
       "      <td>36.240983</td>\n",
       "      <td>Hispanic</td>\n",
       "      <td>F</td>\n",
       "      <td>25-50k</td>\n",
       "      <td>4</td>\n",
       "      <td>3</td>\n",
       "      <td>1</td>\n",
       "      <td>4</td>\n",
       "      <td>0</td>\n",
       "    </tr>\n",
       "  </tbody>\n",
       "</table>\n",
       "</div>"
      ],
      "text/plain": [
       "   Unnamed: 0   ID       LONG        LAT       ages      race sex   income  \\\n",
       "0           1   34 -78.573908  35.790983  48.348342     Black   M     <25k   \n",
       "1           2  159 -78.658352  35.803606  26.371383     White   F  75-100k   \n",
       "2           3  280 -78.663104  35.819915  34.121603     White   F   25-50k   \n",
       "3           4  423 -78.521571  35.891935  43.571950     White   M   25-50k   \n",
       "4           5  932 -78.646293  35.821340  36.240983  Hispanic   F   25-50k   \n",
       "\n",
       "   Location  Price  Experience  Other  will_attend  \n",
       "0         1      4           3      3            0  \n",
       "1         5      2           1      3            0  \n",
       "2         1      1           2      1            0  \n",
       "3         3      1           3      4            1  \n",
       "4         4      3           1      4            0  "
      ]
     },
     "execution_count": 9,
     "metadata": {},
     "output_type": "execute_result"
    }
   ],
   "source": [
    "df.head() #looks like a random column unnamed: 0 could be dropped"
   ]
  },
  {
   "cell_type": "code",
   "execution_count": 11,
   "metadata": {},
   "outputs": [],
   "source": [
    "df.drop('Unnamed: 0', inplace=True, axis=1)"
   ]
  },
  {
   "cell_type": "code",
   "execution_count": 14,
   "metadata": {},
   "outputs": [
    {
     "name": "stdout",
     "output_type": "stream",
     "text": [
      "<class 'pandas.core.frame.DataFrame'>\n",
      "RangeIndex: 6802 entries, 0 to 6801\n",
      "Data columns (total 12 columns):\n",
      "ID             6802 non-null int64\n",
      "LONG           6802 non-null float64\n",
      "LAT            6802 non-null float64\n",
      "ages           6802 non-null float64\n",
      "race           6802 non-null object\n",
      "sex            6802 non-null object\n",
      "income         6802 non-null object\n",
      "Location       6802 non-null int64\n",
      "Price          6802 non-null int64\n",
      "Experience     6802 non-null int64\n",
      "Other          6802 non-null int64\n",
      "will_attend    6802 non-null int64\n",
      "dtypes: float64(3), int64(6), object(3)\n",
      "memory usage: 637.8+ KB\n"
     ]
    }
   ],
   "source": [
    "df.info() # no mmissing data"
   ]
  },
  {
   "cell_type": "code",
   "execution_count": 15,
   "metadata": {},
   "outputs": [
    {
     "data": {
      "text/html": [
       "<div>\n",
       "<style scoped>\n",
       "    .dataframe tbody tr th:only-of-type {\n",
       "        vertical-align: middle;\n",
       "    }\n",
       "\n",
       "    .dataframe tbody tr th {\n",
       "        vertical-align: top;\n",
       "    }\n",
       "\n",
       "    .dataframe thead th {\n",
       "        text-align: right;\n",
       "    }\n",
       "</style>\n",
       "<table border=\"1\" class=\"dataframe\">\n",
       "  <thead>\n",
       "    <tr style=\"text-align: right;\">\n",
       "      <th></th>\n",
       "      <th>ID</th>\n",
       "      <th>LONG</th>\n",
       "      <th>LAT</th>\n",
       "      <th>ages</th>\n",
       "      <th>Location</th>\n",
       "      <th>Price</th>\n",
       "      <th>Experience</th>\n",
       "      <th>Other</th>\n",
       "      <th>will_attend</th>\n",
       "    </tr>\n",
       "  </thead>\n",
       "  <tbody>\n",
       "    <tr>\n",
       "      <th>count</th>\n",
       "      <td>6.802000e+03</td>\n",
       "      <td>6802.000000</td>\n",
       "      <td>6802.000000</td>\n",
       "      <td>6802.000000</td>\n",
       "      <td>6802.000000</td>\n",
       "      <td>6802.000000</td>\n",
       "      <td>6802.000000</td>\n",
       "      <td>6802.000000</td>\n",
       "      <td>6802.000000</td>\n",
       "    </tr>\n",
       "    <tr>\n",
       "      <th>mean</th>\n",
       "      <td>7.510027e+05</td>\n",
       "      <td>-78.760288</td>\n",
       "      <td>35.839948</td>\n",
       "      <td>42.177065</td>\n",
       "      <td>3.052632</td>\n",
       "      <td>2.473684</td>\n",
       "      <td>1.842105</td>\n",
       "      <td>2.421053</td>\n",
       "      <td>0.058806</td>\n",
       "    </tr>\n",
       "    <tr>\n",
       "      <th>std</th>\n",
       "      <td>4.330180e+05</td>\n",
       "      <td>0.157984</td>\n",
       "      <td>0.120887</td>\n",
       "      <td>7.715904</td>\n",
       "      <td>1.431839</td>\n",
       "      <td>1.141109</td>\n",
       "      <td>0.812020</td>\n",
       "      <td>1.091472</td>\n",
       "      <td>0.235279</td>\n",
       "    </tr>\n",
       "    <tr>\n",
       "      <th>min</th>\n",
       "      <td>3.400000e+01</td>\n",
       "      <td>-79.228282</td>\n",
       "      <td>35.444594</td>\n",
       "      <td>22.452138</td>\n",
       "      <td>1.000000</td>\n",
       "      <td>1.000000</td>\n",
       "      <td>1.000000</td>\n",
       "      <td>1.000000</td>\n",
       "      <td>0.000000</td>\n",
       "    </tr>\n",
       "    <tr>\n",
       "      <th>25%</th>\n",
       "      <td>3.771328e+05</td>\n",
       "      <td>-78.873875</td>\n",
       "      <td>35.756349</td>\n",
       "      <td>36.671926</td>\n",
       "      <td>2.000000</td>\n",
       "      <td>1.000000</td>\n",
       "      <td>1.000000</td>\n",
       "      <td>1.000000</td>\n",
       "      <td>0.000000</td>\n",
       "    </tr>\n",
       "    <tr>\n",
       "      <th>50%</th>\n",
       "      <td>7.437685e+05</td>\n",
       "      <td>-78.756112</td>\n",
       "      <td>35.827054</td>\n",
       "      <td>41.585939</td>\n",
       "      <td>3.000000</td>\n",
       "      <td>2.000000</td>\n",
       "      <td>2.000000</td>\n",
       "      <td>2.000000</td>\n",
       "      <td>0.000000</td>\n",
       "    </tr>\n",
       "    <tr>\n",
       "      <th>75%</th>\n",
       "      <td>1.127228e+06</td>\n",
       "      <td>-78.634398</td>\n",
       "      <td>35.936086</td>\n",
       "      <td>47.005610</td>\n",
       "      <td>4.000000</td>\n",
       "      <td>4.000000</td>\n",
       "      <td>3.000000</td>\n",
       "      <td>3.000000</td>\n",
       "      <td>0.000000</td>\n",
       "    </tr>\n",
       "    <tr>\n",
       "      <th>max</th>\n",
       "      <td>1.507280e+06</td>\n",
       "      <td>-78.384012</td>\n",
       "      <td>36.184802</td>\n",
       "      <td>78.734115</td>\n",
       "      <td>5.000000</td>\n",
       "      <td>4.000000</td>\n",
       "      <td>3.000000</td>\n",
       "      <td>4.000000</td>\n",
       "      <td>1.000000</td>\n",
       "    </tr>\n",
       "  </tbody>\n",
       "</table>\n",
       "</div>"
      ],
      "text/plain": [
       "                 ID         LONG          LAT         ages     Location  \\\n",
       "count  6.802000e+03  6802.000000  6802.000000  6802.000000  6802.000000   \n",
       "mean   7.510027e+05   -78.760288    35.839948    42.177065     3.052632   \n",
       "std    4.330180e+05     0.157984     0.120887     7.715904     1.431839   \n",
       "min    3.400000e+01   -79.228282    35.444594    22.452138     1.000000   \n",
       "25%    3.771328e+05   -78.873875    35.756349    36.671926     2.000000   \n",
       "50%    7.437685e+05   -78.756112    35.827054    41.585939     3.000000   \n",
       "75%    1.127228e+06   -78.634398    35.936086    47.005610     4.000000   \n",
       "max    1.507280e+06   -78.384012    36.184802    78.734115     5.000000   \n",
       "\n",
       "             Price   Experience        Other  will_attend  \n",
       "count  6802.000000  6802.000000  6802.000000  6802.000000  \n",
       "mean      2.473684     1.842105     2.421053     0.058806  \n",
       "std       1.141109     0.812020     1.091472     0.235279  \n",
       "min       1.000000     1.000000     1.000000     0.000000  \n",
       "25%       1.000000     1.000000     1.000000     0.000000  \n",
       "50%       2.000000     2.000000     2.000000     0.000000  \n",
       "75%       4.000000     3.000000     3.000000     0.000000  \n",
       "max       4.000000     3.000000     4.000000     1.000000  "
      ]
     },
     "execution_count": 15,
     "metadata": {},
     "output_type": "execute_result"
    }
   ],
   "source": [
    "df.describe()"
   ]
  },
  {
   "cell_type": "code",
   "execution_count": 38,
   "metadata": {},
   "outputs": [],
   "source": [
    "categorical_cols = ['Location', 'Price', 'Experience', 'Other']\n",
    "target_col = 'will_attend'"
   ]
  },
  {
   "cell_type": "code",
   "execution_count": 20,
   "metadata": {},
   "outputs": [
    {
     "data": {
      "text/plain": [
       "1    2864\n",
       "2    2148\n",
       "3    1790\n",
       "Name: Experience, dtype: int64"
      ]
     },
     "execution_count": 20,
     "metadata": {},
     "output_type": "execute_result"
    }
   ],
   "source": [
    "# Plotting a bar graph of the number of stores in each city, for the first ten cities listed\n",
    "# in the column 'City'\n",
    "city_count  = df['City'].value_counts()\n",
    "city_count = city_count[:10,]\n",
    "plt.figure(figsize=(10,5))\n",
    "sns.barplot(city_count.index, city_count.values, alpha=0.8)\n",
    "plt.title('Starbucks in top 10 cities in the World')\n",
    "plt.ylabel('Number of Occurrences', fontsize=12)\n",
    "plt.xlabel('city', fontsize=12)\n",
    "plt.show()"
   ]
  },
  {
   "cell_type": "code",
   "execution_count": 33,
   "metadata": {},
   "outputs": [
    {
     "data": {
      "image/png": "[encoded data removed]",
      "text/plain": [
       "<matplotlib.figure.Figure at 0x1a9c3b9c0b8>"
      ]
     },
     "metadata": {},
     "output_type": "display_data"
    },
    {
     "data": {
      "image/png": "[encoded data removed]",
      "text/plain": [
       "<matplotlib.figure.Figure at 0x1a9c4234cf8>"
      ]
     },
     "metadata": {},
     "output_type": "display_data"
    },
    {
     "data": {
      "image/png": "[encoded data removed]",
      "text/plain": [
       "<matplotlib.figure.Figure at 0x1a9c364b748>"
      ]
     },
     "metadata": {},
     "output_type": "display_data"
    },
    {
     "data": {
      "image/png": "[encoded data removed]",
      "text/plain": [
       "<matplotlib.figure.Figure at 0x1a9c11b8e10>"
      ]
     },
     "metadata": {},
     "output_type": "display_data"
    }
   ],
   "source": [
    "# to give an idea of what we asked people on the surveys\n",
    "for i, col in enumerate(categorical_cols):\n",
    "    df1 = df[col]\n",
    "    counts = df1.value_counts()\n",
    "    plt.figure(figsize=(10,5))\n",
    "    sns.barplot(counts.index, counts.values, alpha=0.8)\n",
    "    plt.title('Counts for ' + categorical_cols[i])\n",
    "    plt.ylabel('Number of Occurrences')\n",
    "    plt.xlabel(categorical_cols[i], fontsize=12)\n",
    "    plt.show()"
   ]
  },
  {
   "cell_type": "code",
   "execution_count": 44,
   "metadata": {},
   "outputs": [
    {
     "data": {
      "image/png": "[encoded data removed]",
      "text/plain": [
       "<matplotlib.figure.Figure at 0x1a9c3e970f0>"
      ]
     },
     "metadata": {},
     "output_type": "display_data"
    }
   ],
   "source": [
    "sns.countplot(x=target_col, data=df, palette='hls')\n",
    "plt.show()"
   ]
  },
  {
   "cell_type": "code",
   "execution_count": 46,
   "metadata": {},
   "outputs": [
    {
     "name": "stdout",
     "output_type": "stream",
     "text": [
      "percentage of not attending is 94.11937665392531\n",
      "percentage of attending 5.8806233460746835\n"
     ]
    }
   ],
   "source": [
    "count_no_sub = len(df[df[target_col]==0])\n",
    "count_sub = len(df[df[target_col]==1])\n",
    "pct_of_no_sub = count_no_sub/(count_no_sub+count_sub)\n",
    "print(\"percentage of not attending is\", pct_of_no_sub*100)\n",
    "pct_of_sub = count_sub/(count_no_sub+count_sub)\n",
    "print(\"percentage of attending\", pct_of_sub*100)"
   ]
  },
  {
   "cell_type": "code",
   "execution_count": 47,
   "metadata": {},
   "outputs": [
    {
     "data": {
      "text/html": [
       "<div>\n",
       "<style scoped>\n",
       "    .dataframe tbody tr th:only-of-type {\n",
       "        vertical-align: middle;\n",
       "    }\n",
       "\n",
       "    .dataframe tbody tr th {\n",
       "        vertical-align: top;\n",
       "    }\n",
       "\n",
       "    .dataframe thead th {\n",
       "        text-align: right;\n",
       "    }\n",
       "</style>\n",
       "<table border=\"1\" class=\"dataframe\">\n",
       "  <thead>\n",
       "    <tr style=\"text-align: right;\">\n",
       "      <th></th>\n",
       "      <th>ID</th>\n",
       "      <th>LONG</th>\n",
       "      <th>LAT</th>\n",
       "      <th>ages</th>\n",
       "      <th>Location</th>\n",
       "      <th>Price</th>\n",
       "      <th>Experience</th>\n",
       "      <th>Other</th>\n",
       "    </tr>\n",
       "    <tr>\n",
       "      <th>will_attend</th>\n",
       "      <th></th>\n",
       "      <th></th>\n",
       "      <th></th>\n",
       "      <th></th>\n",
       "      <th></th>\n",
       "      <th></th>\n",
       "      <th></th>\n",
       "      <th></th>\n",
       "    </tr>\n",
       "  </thead>\n",
       "  <tbody>\n",
       "    <tr>\n",
       "      <th>0</th>\n",
       "      <td>752329.767885</td>\n",
       "      <td>-78.760473</td>\n",
       "      <td>35.840988</td>\n",
       "      <td>42.375401</td>\n",
       "      <td>3.087785</td>\n",
       "      <td>2.489691</td>\n",
       "      <td>1.802562</td>\n",
       "      <td>2.369103</td>\n",
       "    </tr>\n",
       "    <tr>\n",
       "      <th>1</th>\n",
       "      <td>729763.205000</td>\n",
       "      <td>-78.757330</td>\n",
       "      <td>35.823298</td>\n",
       "      <td>39.002687</td>\n",
       "      <td>2.490000</td>\n",
       "      <td>2.217500</td>\n",
       "      <td>2.475000</td>\n",
       "      <td>3.252500</td>\n",
       "    </tr>\n",
       "  </tbody>\n",
       "</table>\n",
       "</div>"
      ],
      "text/plain": [
       "                        ID       LONG        LAT       ages  Location  \\\n",
       "will_attend                                                             \n",
       "0            752329.767885 -78.760473  35.840988  42.375401  3.087785   \n",
       "1            729763.205000 -78.757330  35.823298  39.002687  2.490000   \n",
       "\n",
       "                Price  Experience     Other  \n",
       "will_attend                                  \n",
       "0            2.489691    1.802562  2.369103  \n",
       "1            2.217500    2.475000  3.252500  "
      ]
     },
     "execution_count": 47,
     "metadata": {},
     "output_type": "execute_result"
    }
   ],
   "source": [
    "df.groupby(target_col).mean()\n",
    "# age of those who attend is about 3 years younger on average\n",
    "# those attending responded better to lower prices"
   ]
  },
  {
   "cell_type": "code",
   "execution_count": 51,
   "metadata": {},
   "outputs": [
    {
     "data": {
      "text/html": [
       "<div>\n",
       "<style scoped>\n",
       "    .dataframe tbody tr th:only-of-type {\n",
       "        vertical-align: middle;\n",
       "    }\n",
       "\n",
       "    .dataframe tbody tr th {\n",
       "        vertical-align: top;\n",
       "    }\n",
       "\n",
       "    .dataframe thead th {\n",
       "        text-align: right;\n",
       "    }\n",
       "</style>\n",
       "<table border=\"1\" class=\"dataframe\">\n",
       "  <thead>\n",
       "    <tr style=\"text-align: right;\">\n",
       "      <th></th>\n",
       "      <th>ID</th>\n",
       "      <th>LONG</th>\n",
       "      <th>LAT</th>\n",
       "      <th>ages</th>\n",
       "      <th>Price</th>\n",
       "      <th>Experience</th>\n",
       "      <th>Other</th>\n",
       "      <th>will_attend</th>\n",
       "    </tr>\n",
       "    <tr>\n",
       "      <th>Location</th>\n",
       "      <th></th>\n",
       "      <th></th>\n",
       "      <th></th>\n",
       "      <th></th>\n",
       "      <th></th>\n",
       "      <th></th>\n",
       "      <th></th>\n",
       "      <th></th>\n",
       "    </tr>\n",
       "  </thead>\n",
       "  <tbody>\n",
       "    <tr>\n",
       "      <th>1</th>\n",
       "      <td>745799.291899</td>\n",
       "      <td>-78.756304</td>\n",
       "      <td>35.834158</td>\n",
       "      <td>41.802011</td>\n",
       "      <td>2.500000</td>\n",
       "      <td>2.00</td>\n",
       "      <td>2.5</td>\n",
       "      <td>0.067737</td>\n",
       "    </tr>\n",
       "    <tr>\n",
       "      <th>2</th>\n",
       "      <td>751797.261639</td>\n",
       "      <td>-78.756430</td>\n",
       "      <td>35.845300</td>\n",
       "      <td>42.457151</td>\n",
       "      <td>2.333333</td>\n",
       "      <td>2.00</td>\n",
       "      <td>2.0</td>\n",
       "      <td>0.119181</td>\n",
       "    </tr>\n",
       "    <tr>\n",
       "      <th>3</th>\n",
       "      <td>767047.755587</td>\n",
       "      <td>-78.768038</td>\n",
       "      <td>35.844028</td>\n",
       "      <td>42.496625</td>\n",
       "      <td>2.500000</td>\n",
       "      <td>1.75</td>\n",
       "      <td>2.5</td>\n",
       "      <td>0.081006</td>\n",
       "    </tr>\n",
       "    <tr>\n",
       "      <th>4</th>\n",
       "      <td>746202.336592</td>\n",
       "      <td>-78.761679</td>\n",
       "      <td>35.837865</td>\n",
       "      <td>42.256221</td>\n",
       "      <td>2.500000</td>\n",
       "      <td>1.75</td>\n",
       "      <td>2.5</td>\n",
       "      <td>0.000000</td>\n",
       "    </tr>\n",
       "    <tr>\n",
       "      <th>5</th>\n",
       "      <td>744365.557961</td>\n",
       "      <td>-78.758027</td>\n",
       "      <td>35.839728</td>\n",
       "      <td>41.943337</td>\n",
       "      <td>2.500000</td>\n",
       "      <td>1.75</td>\n",
       "      <td>2.5</td>\n",
       "      <td>0.041201</td>\n",
       "    </tr>\n",
       "  </tbody>\n",
       "</table>\n",
       "</div>"
      ],
      "text/plain": [
       "                     ID       LONG        LAT       ages     Price  \\\n",
       "Location                                                             \n",
       "1         745799.291899 -78.756304  35.834158  41.802011  2.500000   \n",
       "2         751797.261639 -78.756430  35.845300  42.457151  2.333333   \n",
       "3         767047.755587 -78.768038  35.844028  42.496625  2.500000   \n",
       "4         746202.336592 -78.761679  35.837865  42.256221  2.500000   \n",
       "5         744365.557961 -78.758027  35.839728  41.943337  2.500000   \n",
       "\n",
       "          Experience  Other  will_attend  \n",
       "Location                                  \n",
       "1               2.00    2.5     0.067737  \n",
       "2               2.00    2.0     0.119181  \n",
       "3               1.75    2.5     0.081006  \n",
       "4               1.75    2.5     0.000000  \n",
       "5               1.75    2.5     0.041201  "
      ]
     },
     "metadata": {},
     "output_type": "display_data"
    },
    {
     "data": {
      "text/html": [
       "<div>\n",
       "<style scoped>\n",
       "    .dataframe tbody tr th:only-of-type {\n",
       "        vertical-align: middle;\n",
       "    }\n",
       "\n",
       "    .dataframe tbody tr th {\n",
       "        vertical-align: top;\n",
       "    }\n",
       "\n",
       "    .dataframe thead th {\n",
       "        text-align: right;\n",
       "    }\n",
       "</style>\n",
       "<table border=\"1\" class=\"dataframe\">\n",
       "  <thead>\n",
       "    <tr style=\"text-align: right;\">\n",
       "      <th></th>\n",
       "      <th>ID</th>\n",
       "      <th>LONG</th>\n",
       "      <th>LAT</th>\n",
       "      <th>ages</th>\n",
       "      <th>Location</th>\n",
       "      <th>Experience</th>\n",
       "      <th>Other</th>\n",
       "      <th>will_attend</th>\n",
       "    </tr>\n",
       "    <tr>\n",
       "      <th>Price</th>\n",
       "      <th></th>\n",
       "      <th></th>\n",
       "      <th></th>\n",
       "      <th></th>\n",
       "      <th></th>\n",
       "      <th></th>\n",
       "      <th></th>\n",
       "      <th></th>\n",
       "    </tr>\n",
       "  </thead>\n",
       "  <tbody>\n",
       "    <tr>\n",
       "      <th>1</th>\n",
       "      <td>745407.248603</td>\n",
       "      <td>-78.759997</td>\n",
       "      <td>35.839385</td>\n",
       "      <td>42.339579</td>\n",
       "      <td>3.00</td>\n",
       "      <td>1.80</td>\n",
       "      <td>2.2</td>\n",
       "      <td>0.070391</td>\n",
       "    </tr>\n",
       "    <tr>\n",
       "      <th>2</th>\n",
       "      <td>765993.179330</td>\n",
       "      <td>-78.762093</td>\n",
       "      <td>35.842109</td>\n",
       "      <td>42.172429</td>\n",
       "      <td>3.00</td>\n",
       "      <td>2.00</td>\n",
       "      <td>2.6</td>\n",
       "      <td>0.085475</td>\n",
       "    </tr>\n",
       "    <tr>\n",
       "      <th>3</th>\n",
       "      <td>740503.667598</td>\n",
       "      <td>-78.753078</td>\n",
       "      <td>35.835335</td>\n",
       "      <td>42.231970</td>\n",
       "      <td>3.25</td>\n",
       "      <td>1.75</td>\n",
       "      <td>2.5</td>\n",
       "      <td>0.020251</td>\n",
       "    </tr>\n",
       "    <tr>\n",
       "      <th>4</th>\n",
       "      <td>750006.948603</td>\n",
       "      <td>-78.764544</td>\n",
       "      <td>35.842040</td>\n",
       "      <td>41.975262</td>\n",
       "      <td>3.00</td>\n",
       "      <td>1.80</td>\n",
       "      <td>2.4</td>\n",
       "      <td>0.051397</td>\n",
       "    </tr>\n",
       "  </tbody>\n",
       "</table>\n",
       "</div>"
      ],
      "text/plain": [
       "                  ID       LONG        LAT       ages  Location  Experience  \\\n",
       "Price                                                                         \n",
       "1      745407.248603 -78.759997  35.839385  42.339579      3.00        1.80   \n",
       "2      765993.179330 -78.762093  35.842109  42.172429      3.00        2.00   \n",
       "3      740503.667598 -78.753078  35.835335  42.231970      3.25        1.75   \n",
       "4      750006.948603 -78.764544  35.842040  41.975262      3.00        1.80   \n",
       "\n",
       "       Other  will_attend  \n",
       "Price                      \n",
       "1        2.2     0.070391  \n",
       "2        2.6     0.085475  \n",
       "3        2.5     0.020251  \n",
       "4        2.4     0.051397  "
      ]
     },
     "metadata": {},
     "output_type": "display_data"
    },
    {
     "data": {
      "text/html": [
       "<div>\n",
       "<style scoped>\n",
       "    .dataframe tbody tr th:only-of-type {\n",
       "        vertical-align: middle;\n",
       "    }\n",
       "\n",
       "    .dataframe tbody tr th {\n",
       "        vertical-align: top;\n",
       "    }\n",
       "\n",
       "    .dataframe thead th {\n",
       "        text-align: right;\n",
       "    }\n",
       "</style>\n",
       "<table border=\"1\" class=\"dataframe\">\n",
       "  <thead>\n",
       "    <tr style=\"text-align: right;\">\n",
       "      <th></th>\n",
       "      <th>ID</th>\n",
       "      <th>LONG</th>\n",
       "      <th>LAT</th>\n",
       "      <th>ages</th>\n",
       "      <th>Location</th>\n",
       "      <th>Price</th>\n",
       "      <th>Other</th>\n",
       "      <th>will_attend</th>\n",
       "    </tr>\n",
       "    <tr>\n",
       "      <th>Experience</th>\n",
       "      <th></th>\n",
       "      <th></th>\n",
       "      <th></th>\n",
       "      <th></th>\n",
       "      <th></th>\n",
       "      <th></th>\n",
       "      <th></th>\n",
       "      <th></th>\n",
       "    </tr>\n",
       "  </thead>\n",
       "  <tbody>\n",
       "    <tr>\n",
       "      <th>1</th>\n",
       "      <td>748346.883031</td>\n",
       "      <td>-78.759850</td>\n",
       "      <td>35.838875</td>\n",
       "      <td>42.205278</td>\n",
       "      <td>3.375000</td>\n",
       "      <td>2.5</td>\n",
       "      <td>2.500000</td>\n",
       "      <td>0.027235</td>\n",
       "    </tr>\n",
       "    <tr>\n",
       "      <th>2</th>\n",
       "      <td>752545.646182</td>\n",
       "      <td>-78.764542</td>\n",
       "      <td>35.841142</td>\n",
       "      <td>42.023114</td>\n",
       "      <td>2.666667</td>\n",
       "      <td>2.5</td>\n",
       "      <td>2.166667</td>\n",
       "      <td>0.025140</td>\n",
       "    </tr>\n",
       "    <tr>\n",
       "      <th>3</th>\n",
       "      <td>753400.522346</td>\n",
       "      <td>-78.755886</td>\n",
       "      <td>35.840232</td>\n",
       "      <td>42.316666</td>\n",
       "      <td>3.000000</td>\n",
       "      <td>2.4</td>\n",
       "      <td>2.600000</td>\n",
       "      <td>0.149721</td>\n",
       "    </tr>\n",
       "  </tbody>\n",
       "</table>\n",
       "</div>"
      ],
      "text/plain": [
       "                       ID       LONG        LAT       ages  Location  Price  \\\n",
       "Experience                                                                    \n",
       "1           748346.883031 -78.759850  35.838875  42.205278  3.375000    2.5   \n",
       "2           752545.646182 -78.764542  35.841142  42.023114  2.666667    2.5   \n",
       "3           753400.522346 -78.755886  35.840232  42.316666  3.000000    2.4   \n",
       "\n",
       "               Other  will_attend  \n",
       "Experience                         \n",
       "1           2.500000     0.027235  \n",
       "2           2.166667     0.025140  \n",
       "3           2.600000     0.149721  "
      ]
     },
     "metadata": {},
     "output_type": "display_data"
    },
    {
     "data": {
      "text/html": [
       "<div>\n",
       "<style scoped>\n",
       "    .dataframe tbody tr th:only-of-type {\n",
       "        vertical-align: middle;\n",
       "    }\n",
       "\n",
       "    .dataframe tbody tr th {\n",
       "        vertical-align: top;\n",
       "    }\n",
       "\n",
       "    .dataframe thead th {\n",
       "        text-align: right;\n",
       "    }\n",
       "</style>\n",
       "<table border=\"1\" class=\"dataframe\">\n",
       "  <thead>\n",
       "    <tr style=\"text-align: right;\">\n",
       "      <th></th>\n",
       "      <th>ID</th>\n",
       "      <th>LONG</th>\n",
       "      <th>LAT</th>\n",
       "      <th>ages</th>\n",
       "      <th>Location</th>\n",
       "      <th>Price</th>\n",
       "      <th>Experience</th>\n",
       "      <th>will_attend</th>\n",
       "    </tr>\n",
       "    <tr>\n",
       "      <th>Other</th>\n",
       "      <th></th>\n",
       "      <th></th>\n",
       "      <th></th>\n",
       "      <th></th>\n",
       "      <th></th>\n",
       "      <th></th>\n",
       "      <th></th>\n",
       "      <th></th>\n",
       "    </tr>\n",
       "  </thead>\n",
       "  <tbody>\n",
       "    <tr>\n",
       "      <th>1</th>\n",
       "      <td>742361.378771</td>\n",
       "      <td>-78.758801</td>\n",
       "      <td>35.844596</td>\n",
       "      <td>41.946114</td>\n",
       "      <td>3.00</td>\n",
       "      <td>2.2</td>\n",
       "      <td>1.80</td>\n",
       "      <td>0.017877</td>\n",
       "    </tr>\n",
       "    <tr>\n",
       "      <th>2</th>\n",
       "      <td>770086.434078</td>\n",
       "      <td>-78.761892</td>\n",
       "      <td>35.840792</td>\n",
       "      <td>42.438429</td>\n",
       "      <td>3.00</td>\n",
       "      <td>2.8</td>\n",
       "      <td>1.80</td>\n",
       "      <td>0.012291</td>\n",
       "    </tr>\n",
       "    <tr>\n",
       "      <th>3</th>\n",
       "      <td>744629.877095</td>\n",
       "      <td>-78.757304</td>\n",
       "      <td>35.836157</td>\n",
       "      <td>42.142397</td>\n",
       "      <td>3.00</td>\n",
       "      <td>2.4</td>\n",
       "      <td>2.00</td>\n",
       "      <td>0.088827</td>\n",
       "    </tr>\n",
       "    <tr>\n",
       "      <th>4</th>\n",
       "      <td>745915.775838</td>\n",
       "      <td>-78.763874</td>\n",
       "      <td>35.837822</td>\n",
       "      <td>42.182383</td>\n",
       "      <td>3.25</td>\n",
       "      <td>2.5</td>\n",
       "      <td>1.75</td>\n",
       "      <td>0.130587</td>\n",
       "    </tr>\n",
       "  </tbody>\n",
       "</table>\n",
       "</div>"
      ],
      "text/plain": [
       "                  ID       LONG        LAT       ages  Location  Price  \\\n",
       "Other                                                                    \n",
       "1      742361.378771 -78.758801  35.844596  41.946114      3.00    2.2   \n",
       "2      770086.434078 -78.761892  35.840792  42.438429      3.00    2.8   \n",
       "3      744629.877095 -78.757304  35.836157  42.142397      3.00    2.4   \n",
       "4      745915.775838 -78.763874  35.837822  42.182383      3.25    2.5   \n",
       "\n",
       "       Experience  will_attend  \n",
       "Other                           \n",
       "1            1.80     0.017877  \n",
       "2            1.80     0.012291  \n",
       "3            2.00     0.088827  \n",
       "4            1.75     0.130587  "
      ]
     },
     "metadata": {},
     "output_type": "display_data"
    }
   ],
   "source": [
    "for col in categorical_cols:\n",
    "    display(df.groupby(col).mean())"
   ]
  },
  {
   "cell_type": "code",
   "execution_count": 53,
   "metadata": {},
   "outputs": [
    {
     "data": {
      "image/png": "[encoded data removed]",
      "text/plain": [
       "<matplotlib.figure.Figure at 0x1a9c3c75438>"
      ]
     },
     "metadata": {},
     "output_type": "display_data"
    },
    {
     "data": {
      "image/png": "[encoded data removed]",
      "text/plain": [
       "<matplotlib.figure.Figure at 0x1a9c4660978>"
      ]
     },
     "metadata": {},
     "output_type": "display_data"
    },
    {
     "data": {
      "image/png": "[encoded data removed]",
      "text/plain": [
       "<matplotlib.figure.Figure at 0x1a9c4658940>"
      ]
     },
     "metadata": {},
     "output_type": "display_data"
    },
    {
     "data": {
      "image/png": "[encoded data removed]",
      "text/plain": [
       "<matplotlib.figure.Figure at 0x1a9c4c3ebe0>"
      ]
     },
     "metadata": {},
     "output_type": "display_data"
    }
   ],
   "source": [
    "%matplotlib inline\n",
    "for col in categorical_cols:\n",
    "    pd.crosstab(df[col], df[target_col]).plot(kind='bar')\n",
    "    plt.title('Attendance Frequency for ' + col)\n",
    "    plt.xlabel(col)\n",
    "    plt.ylabel('Frequency of Attendance')\n",
    "# locations 1 2 3 are the most popular\n",
    "# price 2 is most popular\n",
    "# experience 3 is most popular\n",
    "# others 3 4 are the most popular"
   ]
  },
  {
   "cell_type": "code",
   "execution_count": 57,
   "metadata": {},
   "outputs": [
    {
     "data": {
      "image/png": "[encoded data removed]",
      "text/plain": [
       "<matplotlib.figure.Figure at 0x1a9c3eb7860>"
      ]
     },
     "metadata": {},
     "output_type": "display_data"
    },
    {
     "data": {
      "image/png": "[encoded data removed]",
      "text/plain": [
       "<matplotlib.figure.Figure at 0x1a9c3cc1400>"
      ]
     },
     "metadata": {},
     "output_type": "display_data"
    },
    {
     "data": {
      "image/png": "[encoded data removed]",
      "text/plain": [
       "<matplotlib.figure.Figure at 0x1a9c36370b8>"
      ]
     },
     "metadata": {},
     "output_type": "display_data"
    },
    {
     "data": {
      "image/png": "[encoded data removed]",
      "text/plain": [
       "<matplotlib.figure.Figure at 0x1a9c3c03ba8>"
      ]
     },
     "metadata": {},
     "output_type": "display_data"
    }
   ],
   "source": [
    "for col in categorical_cols:\n",
    "    table = pd.crosstab(df[col], df[target_col])\n",
    "    table.div(table.sum(1).astype(float), axis=0).plot(kind='bar', stacked=True)\n",
    "    plt.title('Stacked Bar Chart of ' + col + ' vs Attendance')\n",
    "    plt.xlabel(col)\n",
    "    plt.ylabel('Proportion Attending')"
   ]
  },
  {
   "cell_type": "code",
   "execution_count": null,
   "metadata": {},
   "outputs": [],
   "source": [
    "table=pd.crosstab(data.marital,data.y)\n",
    "table.div(table.sum(1).astype(float), axis=0).plot(kind='bar', stacked=True)\n",
    "plt.title('Stacked Bar Chart of Marital Status vs Purchase')\n",
    "plt.xlabel('Marital Status')\n",
    "plt.ylabel('Proportion of Customers')\n",
    "plt.savefig('mariral_vs_pur_stack')"
   ]
  }
 ],
 "metadata": {
  "kernelspec": {
   "display_name": "Python 3",
   "language": "python",
   "name": "python3"
  },
  "language_info": {
   "codemirror_mode": {
    "name": "ipython",
    "version": 3
   },
   "file_extension": ".py",
   "mimetype": "text/x-python",
   "name": "python",
   "nbconvert_exporter": "python",
   "pygments_lexer": "ipython3",
   "version": "3.6.4"
  }
 },
 "nbformat": 4,
 "nbformat_minor": 2
}
